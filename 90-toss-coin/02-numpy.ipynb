{
 "cells": [
  {
   "cell_type": "code",
   "execution_count": 1,
   "metadata": {},
   "outputs": [],
   "source": [
    "import numpy as np"
   ]
  },
  {
   "cell_type": "code",
   "execution_count": 2,
   "metadata": {},
   "outputs": [],
   "source": [
    "coin = np.r_[np.zeros(3), np.ones(7)].astype('u1')\n",
    "\n",
    "\n",
    "def toss(count):\n",
    "    result = np.empty((0, 2), dtype='u1')\n",
    "\n",
    "    while result.shape[0] < count:\n",
    "        diff = count - result.shape[0]\n",
    "        a = np.random.choice(coin, size=(diff * 2 if diff < 10000 else diff, 2))\n",
    "        result = np.r_[result, a[a[:, 0] != a[:, 1]]]\n",
    "    \n",
    "    result = result[:count]\n",
    "\n",
    "    ht = np.sum(np.where(result[:, 0] == 1, 1, 0))\n",
    "    th = np.sum(np.where(result[:, 0] == 0, 1, 0))\n",
    "    return ht, th\n"
   ]
  },
  {
   "cell_type": "code",
   "execution_count": 3,
   "metadata": {},
   "outputs": [
    {
     "name": "stdout",
     "output_type": "stream",
     "text": [
      "500441 : 499559 = 1.0017655572214694\n"
     ]
    }
   ],
   "source": [
    "ht, th = toss(100 * 10000)\n",
    "print('%s : %s = %s' % (ht, th, ht / th))"
   ]
  },
  {
   "cell_type": "code",
   "execution_count": 4,
   "metadata": {},
   "outputs": [
    {
     "name": "stdout",
     "output_type": "stream",
     "text": [
      "180 ms ± 10.6 ms per loop (mean ± std. dev. of 7 runs, 10 loops each)\n"
     ]
    }
   ],
   "source": [
    "%timeit toss(100*10000)"
   ]
  }
 ],
 "metadata": {
  "kernelspec": {
   "display_name": "Python 3",
   "language": "python",
   "name": "python3"
  },
  "language_info": {
   "codemirror_mode": {
    "name": "ipython",
    "version": 3
   },
   "file_extension": ".py",
   "mimetype": "text/x-python",
   "name": "python",
   "nbconvert_exporter": "python",
   "pygments_lexer": "ipython3",
   "version": "3.7.4"
  }
 },
 "nbformat": 4,
 "nbformat_minor": 2
}
