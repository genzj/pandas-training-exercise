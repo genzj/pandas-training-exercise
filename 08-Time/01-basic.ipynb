{
 "cells": [
  {
   "cell_type": "code",
   "execution_count": 2,
   "metadata": {},
   "outputs": [],
   "source": [
    "import pandas as pd\n",
    "import numpy as np"
   ]
  },
  {
   "cell_type": "code",
   "execution_count": 7,
   "metadata": {},
   "outputs": [],
   "source": [
    "from datetime import datetime, time, date, timedelta"
   ]
  },
  {
   "cell_type": "code",
   "execution_count": 15,
   "metadata": {},
   "outputs": [
    {
     "data": {
      "text/plain": [
       "0   2019-01-11 00:00:00\n",
       "1   2019-01-11 18:00:00\n",
       "dtype: datetime64[ns]"
      ]
     },
     "execution_count": 15,
     "metadata": {},
     "output_type": "execute_result"
    }
   ],
   "source": [
    "pd.to_datetime(pd.Series([\n",
    "    date(2019, 1, 11),\n",
    "    datetime(2019, 1, 11, 18, 0),\n",
    "    # time(18, 0),\n",
    "    # timedelta(days=2, hours=15)\n",
    "]))"
   ]
  },
  {
   "cell_type": "code",
   "execution_count": 27,
   "metadata": {},
   "outputs": [
    {
     "data": {
      "text/plain": [
       "0   2019-01-11 00:00:00\n",
       "1   2018-11-30 00:00:00\n",
       "2   2019-01-01 04:23:02\n",
       "dtype: datetime64[ns]"
      ]
     },
     "execution_count": 27,
     "metadata": {},
     "output_type": "execute_result"
    }
   ],
   "source": [
    "pd.to_datetime(pd.Series([\n",
    "    '20190111',\n",
    "    '11/30/2018',\n",
    "    '2019-01-01 12:23:02+08:00'\n",
    "]))"
   ]
  },
  {
   "cell_type": "code",
   "execution_count": 4,
   "metadata": {},
   "outputs": [
    {
     "data": {
      "text/plain": [
       "0   2019-01-01\n",
       "1   2019-02-01\n",
       "2   2019-03-01\n",
       "dtype: datetime64[ns]"
      ]
     },
     "execution_count": 4,
     "metadata": {},
     "output_type": "execute_result"
    }
   ],
   "source": [
    "tse = pd.to_datetime(pd.Series([\n",
    "    '201901',\n",
    "    '201902',\n",
    "    '201903'\n",
    "]), format='%Y%m')\n",
    "tse"
   ]
  },
  {
   "cell_type": "code",
   "execution_count": 8,
   "metadata": {},
   "outputs": [
    {
     "data": {
      "text/plain": [
       "Timedelta('31 days 00:00:00')"
      ]
     },
     "execution_count": 8,
     "metadata": {},
     "output_type": "execute_result"
    }
   ],
   "source": [
    "tse[1] - tse[0]"
   ]
  },
  {
   "cell_type": "code",
   "execution_count": 12,
   "metadata": {},
   "outputs": [
    {
     "data": {
      "text/plain": [
       "Timestamp('2019-03-04 00:00:00')"
      ]
     },
     "execution_count": 12,
     "metadata": {},
     "output_type": "execute_result"
    }
   ],
   "source": [
    "tse[2] + pd.Timedelta(3, unit='d')"
   ]
  },
  {
   "cell_type": "code",
   "execution_count": 34,
   "metadata": {},
   "outputs": [
    {
     "data": {
      "text/plain": [
       "2019-01-01    0.14\n",
       "2019-02-01    0.42\n",
       "2019-03-01   -0.24\n",
       "2019-04-01   -0.91\n",
       "2019-05-01    1.07\n",
       "2019-06-01    0.01\n",
       "2019-07-01    0.77\n",
       "2019-08-01    1.26\n",
       "2019-09-01   -0.79\n",
       "2019-10-01    0.47\n",
       "Freq: MS, dtype: float64"
      ]
     },
     "execution_count": 34,
     "metadata": {},
     "output_type": "execute_result"
    }
   ],
   "source": [
    "longer_ts = pd.Series(\n",
    "    np.random.randn(10),\n",
    "    index=pd.date_range('1/1/2019', periods=10, freq='MS')\n",
    ").round(2)\n",
    "longer_ts"
   ]
  },
  {
   "cell_type": "code",
   "execution_count": 35,
   "metadata": {},
   "outputs": [
    {
     "data": {
      "text/plain": [
       "0.47"
      ]
     },
     "execution_count": 35,
     "metadata": {},
     "output_type": "execute_result"
    }
   ],
   "source": [
    "longer_ts['2019-10-01']"
   ]
  },
  {
   "cell_type": "code",
   "execution_count": 37,
   "metadata": {},
   "outputs": [
    {
     "data": {
      "text/plain": [
       "2019-02-01    0.42\n",
       "2019-03-01   -0.24\n",
       "2019-04-01   -0.91\n",
       "Freq: MS, dtype: float64"
      ]
     },
     "execution_count": 37,
     "metadata": {},
     "output_type": "execute_result"
    }
   ],
   "source": [
    "longer_ts['2019-02':'2019-04']"
   ]
  },
  {
   "cell_type": "code",
   "execution_count": 5,
   "metadata": {},
   "outputs": [
    {
     "data": {
      "text/plain": [
       "2019-01-01   -0.46\n",
       "2019-02-01   -1.14\n",
       "2019-03-01    0.22\n",
       "2019-04-01   -0.50\n",
       "2019-05-01    2.12\n",
       "2019-06-01    0.73\n",
       "2019-07-01   -0.33\n",
       "2019-08-01    0.14\n",
       "2019-09-01    0.24\n",
       "2019-10-01   -0.15\n",
       "Freq: MS, dtype: float64"
      ]
     },
     "execution_count": 5,
     "metadata": {},
     "output_type": "execute_result"
    }
   ],
   "source": [
    "another_ts = pd.Series(\n",
    "    np.random.randn(10),\n",
    "    index=pd.date_range('2019-01-01', '2019-10-01', freq='MS')\n",
    ").round(2)\n",
    "another_ts"
   ]
  },
  {
   "cell_type": "code",
   "execution_count": 8,
   "metadata": {},
   "outputs": [
    {
     "data": {
      "text/plain": [
       "0.22"
      ]
     },
     "execution_count": 8,
     "metadata": {},
     "output_type": "execute_result"
    }
   ],
   "source": [
    "another_ts[date(2019, 3, 1)]"
   ]
  },
  {
   "cell_type": "code",
   "execution_count": 25,
   "metadata": {},
   "outputs": [
    {
     "data": {
      "text/html": [
       "<div>\n",
       "<style scoped>\n",
       "    .dataframe tbody tr th:only-of-type {\n",
       "        vertical-align: middle;\n",
       "    }\n",
       "\n",
       "    .dataframe tbody tr th {\n",
       "        vertical-align: top;\n",
       "    }\n",
       "\n",
       "    .dataframe thead th {\n",
       "        text-align: right;\n",
       "    }\n",
       "</style>\n",
       "<table border=\"1\" class=\"dataframe\">\n",
       "  <thead>\n",
       "    <tr style=\"text-align: right;\">\n",
       "      <th></th>\n",
       "      <th>0</th>\n",
       "      <th>1</th>\n",
       "      <th>2</th>\n",
       "      <th>3</th>\n",
       "      <th>4</th>\n",
       "      <th>5</th>\n",
       "      <th>6</th>\n",
       "    </tr>\n",
       "  </thead>\n",
       "  <tbody>\n",
       "    <tr>\n",
       "      <th>B</th>\n",
       "      <td>2019-01-01</td>\n",
       "      <td>2019-01-02 00:00:00</td>\n",
       "      <td>2019-01-03 00:00:00</td>\n",
       "      <td>2019-01-04 00:00:00</td>\n",
       "      <td>2019-01-07 00:00:00</td>\n",
       "      <td>2019-01-08 00:00:00</td>\n",
       "      <td>2019-01-09 00:00:00</td>\n",
       "    </tr>\n",
       "    <tr>\n",
       "      <th>D</th>\n",
       "      <td>2019-01-01</td>\n",
       "      <td>2019-01-02 00:00:00</td>\n",
       "      <td>2019-01-03 00:00:00</td>\n",
       "      <td>2019-01-04 00:00:00</td>\n",
       "      <td>2019-01-05 00:00:00</td>\n",
       "      <td>2019-01-06 00:00:00</td>\n",
       "      <td>2019-01-07 00:00:00</td>\n",
       "    </tr>\n",
       "    <tr>\n",
       "      <th>W</th>\n",
       "      <td>2019-01-06</td>\n",
       "      <td>2019-01-13 00:00:00</td>\n",
       "      <td>2019-01-20 00:00:00</td>\n",
       "      <td>2019-01-27 00:00:00</td>\n",
       "      <td>2019-02-03 00:00:00</td>\n",
       "      <td>2019-02-10 00:00:00</td>\n",
       "      <td>2019-02-17 00:00:00</td>\n",
       "    </tr>\n",
       "    <tr>\n",
       "      <th>M</th>\n",
       "      <td>2019-01-31</td>\n",
       "      <td>2019-02-28 00:00:00</td>\n",
       "      <td>2019-03-31 00:00:00</td>\n",
       "      <td>2019-04-30 00:00:00</td>\n",
       "      <td>2019-05-31 00:00:00</td>\n",
       "      <td>2019-06-30 00:00:00</td>\n",
       "      <td>2019-07-31 00:00:00</td>\n",
       "    </tr>\n",
       "    <tr>\n",
       "      <th>BM</th>\n",
       "      <td>2019-01-31</td>\n",
       "      <td>2019-02-28 00:00:00</td>\n",
       "      <td>2019-03-29 00:00:00</td>\n",
       "      <td>2019-04-30 00:00:00</td>\n",
       "      <td>2019-05-31 00:00:00</td>\n",
       "      <td>2019-06-28 00:00:00</td>\n",
       "      <td>2019-07-31 00:00:00</td>\n",
       "    </tr>\n",
       "    <tr>\n",
       "      <th>MS</th>\n",
       "      <td>2019-01-01</td>\n",
       "      <td>2019-02-01 00:00:00</td>\n",
       "      <td>2019-03-01 00:00:00</td>\n",
       "      <td>2019-04-01 00:00:00</td>\n",
       "      <td>2019-05-01 00:00:00</td>\n",
       "      <td>2019-06-01 00:00:00</td>\n",
       "      <td>2019-07-01 00:00:00</td>\n",
       "    </tr>\n",
       "    <tr>\n",
       "      <th>BMS</th>\n",
       "      <td>2019-01-01</td>\n",
       "      <td>2019-02-01 00:00:00</td>\n",
       "      <td>2019-03-01 00:00:00</td>\n",
       "      <td>2019-04-01 00:00:00</td>\n",
       "      <td>2019-05-01 00:00:00</td>\n",
       "      <td>2019-06-03 00:00:00</td>\n",
       "      <td>2019-07-01 00:00:00</td>\n",
       "    </tr>\n",
       "    <tr>\n",
       "      <th>Y</th>\n",
       "      <td>2019-12-31</td>\n",
       "      <td>2020-12-31 00:00:00</td>\n",
       "      <td>2021-12-31 00:00:00</td>\n",
       "      <td>2022-12-31 00:00:00</td>\n",
       "      <td>2023-12-31 00:00:00</td>\n",
       "      <td>2024-12-31 00:00:00</td>\n",
       "      <td>2025-12-31 00:00:00</td>\n",
       "    </tr>\n",
       "    <tr>\n",
       "      <th>BY</th>\n",
       "      <td>2019-12-31</td>\n",
       "      <td>2020-12-31 00:00:00</td>\n",
       "      <td>2021-12-31 00:00:00</td>\n",
       "      <td>2022-12-30 00:00:00</td>\n",
       "      <td>2023-12-29 00:00:00</td>\n",
       "      <td>2024-12-31 00:00:00</td>\n",
       "      <td>2025-12-31 00:00:00</td>\n",
       "    </tr>\n",
       "    <tr>\n",
       "      <th>YS</th>\n",
       "      <td>2019-01-01</td>\n",
       "      <td>2020-01-01 00:00:00</td>\n",
       "      <td>2021-01-01 00:00:00</td>\n",
       "      <td>2022-01-01 00:00:00</td>\n",
       "      <td>2023-01-01 00:00:00</td>\n",
       "      <td>2024-01-01 00:00:00</td>\n",
       "      <td>2025-01-01 00:00:00</td>\n",
       "    </tr>\n",
       "    <tr>\n",
       "      <th>BYS</th>\n",
       "      <td>2019-01-01</td>\n",
       "      <td>2020-01-01 00:00:00</td>\n",
       "      <td>2021-01-01 00:00:00</td>\n",
       "      <td>2022-01-03 00:00:00</td>\n",
       "      <td>2023-01-02 00:00:00</td>\n",
       "      <td>2024-01-01 00:00:00</td>\n",
       "      <td>2025-01-01 00:00:00</td>\n",
       "    </tr>\n",
       "    <tr>\n",
       "      <th>H</th>\n",
       "      <td>2019-01-01</td>\n",
       "      <td>2019-01-01 01:00:00</td>\n",
       "      <td>2019-01-01 02:00:00</td>\n",
       "      <td>2019-01-01 03:00:00</td>\n",
       "      <td>2019-01-01 04:00:00</td>\n",
       "      <td>2019-01-01 05:00:00</td>\n",
       "      <td>2019-01-01 06:00:00</td>\n",
       "    </tr>\n",
       "    <tr>\n",
       "      <th>min</th>\n",
       "      <td>2019-01-01</td>\n",
       "      <td>2019-01-01 00:01:00</td>\n",
       "      <td>2019-01-01 00:02:00</td>\n",
       "      <td>2019-01-01 00:03:00</td>\n",
       "      <td>2019-01-01 00:04:00</td>\n",
       "      <td>2019-01-01 00:05:00</td>\n",
       "      <td>2019-01-01 00:06:00</td>\n",
       "    </tr>\n",
       "    <tr>\n",
       "      <th>S</th>\n",
       "      <td>2019-01-01</td>\n",
       "      <td>2019-01-01 00:00:01</td>\n",
       "      <td>2019-01-01 00:00:02</td>\n",
       "      <td>2019-01-01 00:00:03</td>\n",
       "      <td>2019-01-01 00:00:04</td>\n",
       "      <td>2019-01-01 00:00:05</td>\n",
       "      <td>2019-01-01 00:00:06</td>\n",
       "    </tr>\n",
       "    <tr>\n",
       "      <th>2H12min</th>\n",
       "      <td>2019-01-01</td>\n",
       "      <td>2019-01-01 02:12:00</td>\n",
       "      <td>2019-01-01 04:24:00</td>\n",
       "      <td>2019-01-01 06:36:00</td>\n",
       "      <td>2019-01-01 08:48:00</td>\n",
       "      <td>2019-01-01 11:00:00</td>\n",
       "      <td>2019-01-01 13:12:00</td>\n",
       "    </tr>\n",
       "    <tr>\n",
       "      <th>9y</th>\n",
       "      <td>2019-12-31</td>\n",
       "      <td>2028-12-31 00:00:00</td>\n",
       "      <td>2037-12-31 00:00:00</td>\n",
       "      <td>2046-12-31 00:00:00</td>\n",
       "      <td>2055-12-31 00:00:00</td>\n",
       "      <td>2064-12-31 00:00:00</td>\n",
       "      <td>2073-12-31 00:00:00</td>\n",
       "    </tr>\n",
       "    <tr>\n",
       "      <th>W-MON</th>\n",
       "      <td>2019-01-07</td>\n",
       "      <td>2019-01-14 00:00:00</td>\n",
       "      <td>2019-01-21 00:00:00</td>\n",
       "      <td>2019-01-28 00:00:00</td>\n",
       "      <td>2019-02-04 00:00:00</td>\n",
       "      <td>2019-02-11 00:00:00</td>\n",
       "      <td>2019-02-18 00:00:00</td>\n",
       "    </tr>\n",
       "    <tr>\n",
       "      <th>WOM-3SAT</th>\n",
       "      <td>2019-01-19</td>\n",
       "      <td>2019-02-16 00:00:00</td>\n",
       "      <td>2019-03-16 00:00:00</td>\n",
       "      <td>2019-04-20 00:00:00</td>\n",
       "      <td>2019-05-18 00:00:00</td>\n",
       "      <td>2019-06-15 00:00:00</td>\n",
       "      <td>2019-07-20 00:00:00</td>\n",
       "    </tr>\n",
       "  </tbody>\n",
       "</table>\n",
       "</div>"
      ],
      "text/plain": [
       "                  0                   1                   2  \\\n",
       "B        2019-01-01 2019-01-02 00:00:00 2019-01-03 00:00:00   \n",
       "D        2019-01-01 2019-01-02 00:00:00 2019-01-03 00:00:00   \n",
       "W        2019-01-06 2019-01-13 00:00:00 2019-01-20 00:00:00   \n",
       "M        2019-01-31 2019-02-28 00:00:00 2019-03-31 00:00:00   \n",
       "BM       2019-01-31 2019-02-28 00:00:00 2019-03-29 00:00:00   \n",
       "MS       2019-01-01 2019-02-01 00:00:00 2019-03-01 00:00:00   \n",
       "BMS      2019-01-01 2019-02-01 00:00:00 2019-03-01 00:00:00   \n",
       "Y        2019-12-31 2020-12-31 00:00:00 2021-12-31 00:00:00   \n",
       "BY       2019-12-31 2020-12-31 00:00:00 2021-12-31 00:00:00   \n",
       "YS       2019-01-01 2020-01-01 00:00:00 2021-01-01 00:00:00   \n",
       "BYS      2019-01-01 2020-01-01 00:00:00 2021-01-01 00:00:00   \n",
       "H        2019-01-01 2019-01-01 01:00:00 2019-01-01 02:00:00   \n",
       "min      2019-01-01 2019-01-01 00:01:00 2019-01-01 00:02:00   \n",
       "S        2019-01-01 2019-01-01 00:00:01 2019-01-01 00:00:02   \n",
       "2H12min  2019-01-01 2019-01-01 02:12:00 2019-01-01 04:24:00   \n",
       "9y       2019-12-31 2028-12-31 00:00:00 2037-12-31 00:00:00   \n",
       "W-MON    2019-01-07 2019-01-14 00:00:00 2019-01-21 00:00:00   \n",
       "WOM-3SAT 2019-01-19 2019-02-16 00:00:00 2019-03-16 00:00:00   \n",
       "\n",
       "                           3                   4                   5  \\\n",
       "B        2019-01-04 00:00:00 2019-01-07 00:00:00 2019-01-08 00:00:00   \n",
       "D        2019-01-04 00:00:00 2019-01-05 00:00:00 2019-01-06 00:00:00   \n",
       "W        2019-01-27 00:00:00 2019-02-03 00:00:00 2019-02-10 00:00:00   \n",
       "M        2019-04-30 00:00:00 2019-05-31 00:00:00 2019-06-30 00:00:00   \n",
       "BM       2019-04-30 00:00:00 2019-05-31 00:00:00 2019-06-28 00:00:00   \n",
       "MS       2019-04-01 00:00:00 2019-05-01 00:00:00 2019-06-01 00:00:00   \n",
       "BMS      2019-04-01 00:00:00 2019-05-01 00:00:00 2019-06-03 00:00:00   \n",
       "Y        2022-12-31 00:00:00 2023-12-31 00:00:00 2024-12-31 00:00:00   \n",
       "BY       2022-12-30 00:00:00 2023-12-29 00:00:00 2024-12-31 00:00:00   \n",
       "YS       2022-01-01 00:00:00 2023-01-01 00:00:00 2024-01-01 00:00:00   \n",
       "BYS      2022-01-03 00:00:00 2023-01-02 00:00:00 2024-01-01 00:00:00   \n",
       "H        2019-01-01 03:00:00 2019-01-01 04:00:00 2019-01-01 05:00:00   \n",
       "min      2019-01-01 00:03:00 2019-01-01 00:04:00 2019-01-01 00:05:00   \n",
       "S        2019-01-01 00:00:03 2019-01-01 00:00:04 2019-01-01 00:00:05   \n",
       "2H12min  2019-01-01 06:36:00 2019-01-01 08:48:00 2019-01-01 11:00:00   \n",
       "9y       2046-12-31 00:00:00 2055-12-31 00:00:00 2064-12-31 00:00:00   \n",
       "W-MON    2019-01-28 00:00:00 2019-02-04 00:00:00 2019-02-11 00:00:00   \n",
       "WOM-3SAT 2019-04-20 00:00:00 2019-05-18 00:00:00 2019-06-15 00:00:00   \n",
       "\n",
       "                           6  \n",
       "B        2019-01-09 00:00:00  \n",
       "D        2019-01-07 00:00:00  \n",
       "W        2019-02-17 00:00:00  \n",
       "M        2019-07-31 00:00:00  \n",
       "BM       2019-07-31 00:00:00  \n",
       "MS       2019-07-01 00:00:00  \n",
       "BMS      2019-07-01 00:00:00  \n",
       "Y        2025-12-31 00:00:00  \n",
       "BY       2025-12-31 00:00:00  \n",
       "YS       2025-01-01 00:00:00  \n",
       "BYS      2025-01-01 00:00:00  \n",
       "H        2019-01-01 06:00:00  \n",
       "min      2019-01-01 00:06:00  \n",
       "S        2019-01-01 00:00:06  \n",
       "2H12min  2019-01-01 13:12:00  \n",
       "9y       2073-12-31 00:00:00  \n",
       "W-MON    2019-02-18 00:00:00  \n",
       "WOM-3SAT 2019-07-20 00:00:00  "
      ]
     },
     "execution_count": 25,
     "metadata": {},
     "output_type": "execute_result"
    }
   ],
   "source": [
    "aliases = [\n",
    "    'B', 'D', 'W', 'M', 'BM', 'MS', 'BMS', 'Y', 'BY', 'YS', 'BYS', 'H', 'min', 'S',\n",
    "    '2H12min', '9y',\n",
    "    'W-MON',\n",
    "    'WOM-3SAT'\n",
    "]\n",
    "offset_aliases = pd.DataFrame()\n",
    "for n in aliases:\n",
    "    offset_aliases[n] = pd.date_range('2019-01-01 00:00:00', periods=7, freq=n)\n",
    "offset_aliases.transpose()"
   ]
  },
  {
   "cell_type": "code",
   "execution_count": 28,
   "metadata": {},
   "outputs": [
    {
     "data": {
      "text/plain": [
       "DatetimeIndex(['2019-12-31', '2020-12-31', '2021-12-31', '2022-12-31',\n",
       "               '2023-12-31', '2024-12-31', '2025-12-31', '2026-12-31',\n",
       "               '2027-12-31', '2028-12-31'],\n",
       "              dtype='datetime64[ns]', freq='A-DEC')"
      ]
     },
     "execution_count": 28,
     "metadata": {},
     "output_type": "execute_result"
    }
   ],
   "source": [
    "ts_to_shift = pd.date_range('1/1/2019', periods=10, freq='Y')\n",
    "ts_to_shift"
   ]
  },
  {
   "cell_type": "code",
   "execution_count": 29,
   "metadata": {},
   "outputs": [
    {
     "data": {
      "text/plain": [
       "DatetimeIndex(['2022-12-31', '2023-12-31', '2024-12-31', '2025-12-31',\n",
       "               '2026-12-31', '2027-12-31', '2028-12-31', '2029-12-31',\n",
       "               '2030-12-31', '2031-12-31'],\n",
       "              dtype='datetime64[ns]', freq='A-DEC')"
      ]
     },
     "execution_count": 29,
     "metadata": {},
     "output_type": "execute_result"
    }
   ],
   "source": [
    "ts_to_shift.shift(3)"
   ]
  },
  {
   "cell_type": "code",
   "execution_count": 30,
   "metadata": {},
   "outputs": [
    {
     "data": {
      "text/plain": [
       "DatetimeIndex(['2019-12-30 12:00:00', '2020-12-30 12:00:00',\n",
       "               '2021-12-30 12:00:00', '2022-12-30 12:00:00',\n",
       "               '2023-12-30 12:00:00', '2024-12-30 12:00:00',\n",
       "               '2025-12-30 12:00:00', '2026-12-30 12:00:00',\n",
       "               '2027-12-30 12:00:00', '2028-12-30 12:00:00'],\n",
       "              dtype='datetime64[ns]', freq=None)"
      ]
     },
     "execution_count": 30,
     "metadata": {},
     "output_type": "execute_result"
    }
   ],
   "source": [
    "ts_to_shift.shift(-1, freq='12H')"
   ]
  }
 ],
 "metadata": {
  "kernelspec": {
   "display_name": "Python 3",
   "language": "python",
   "name": "python3"
  },
  "language_info": {
   "codemirror_mode": {
    "name": "ipython",
    "version": 3
   },
   "file_extension": ".py",
   "mimetype": "text/x-python",
   "name": "python",
   "nbconvert_exporter": "python",
   "pygments_lexer": "ipython3",
   "version": "3.6.4"
  }
 },
 "nbformat": 4,
 "nbformat_minor": 2
}
